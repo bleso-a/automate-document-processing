{
 "cells": [
  {
   "cell_type": "code",
   "execution_count": null,
   "id": "4433340f",
   "metadata": {},
   "outputs": [],
   "source": [
    "import json\n",
    "import boto3\n",
    "\n",
    "import sagemaker\n",
    "from sagemaker import get_execution_role\n",
    "from sagemaker.s3 import S3Uploader, S3Downloader"
   ]
  },
  {
   "cell_type": "code",
   "execution_count": null,
   "id": "d2cdf4c7",
   "metadata": {},
   "outputs": [],
   "source": [
    "region = boto3.Session().region_name\n",
    "role = get_execution_role()\n",
    "bucket = sagemaker.Session().default_bucket()\n",
    "prefix = \"phi-masking\"\n",
    "bucket_path = \"https://s3-{}.amazonaws.com/{}\".format(region, bucket)"
   ]
  },
  {
   "cell_type": "code",
   "execution_count": null,
   "id": "ca6d2ba3",
   "metadata": {},
   "outputs": [],
   "source": [
    "documentName = \"health_notes.png\""
   ]
  },
  {
   "cell_type": "code",
   "execution_count": null,
   "id": "ad0f884d",
   "metadata": {},
   "outputs": [],
   "source": [
    "client = boto3.client(service_name='textract', region_name='eu-west-2',\n",
    "                     endpoint_url='https://textract.eu-west-2.amazonaws.com')"
   ]
  },
  {
   "cell_type": "code",
   "execution_count": null,
   "id": "e61477ca",
   "metadata": {},
   "outputs": [],
   "source": [
    "with open(documentName, 'rb') as file:\n",
    "    img_file = file.read()\n",
    "    bytes_arr = bytearray(img_file)\n",
    "    print('Image file is loaded', documentName)"
   ]
  },
  {
   "cell_type": "code",
   "execution_count": null,
   "id": "e1cc7bf7",
   "metadata": {},
   "outputs": [],
   "source": [
    "response = client.detect_document_text(Document={'Bytes': bytes_arr})"
   ]
  },
  {
   "cell_type": "code",
   "execution_count": null,
   "id": "76c2fa9d",
   "metadata": {},
   "outputs": [],
   "source": [
    "!pip install amazon-textract-response-parser"
   ]
  },
  {
   "cell_type": "code",
   "execution_count": null,
   "id": "b4f27a51",
   "metadata": {},
   "outputs": [],
   "source": [
    "from trp import Document\n",
    "doc = Document(response)\n",
    "page_string = ''\n",
    "for page in doc.pages:\n",
    "    for line in page.lines:\n",
    "        page_string += \" \"\n",
    "        page_string += str(line.text)\n",
    "print(page_string)"
   ]
  },
  {
   "cell_type": "code",
   "execution_count": null,
   "id": "4948e563",
   "metadata": {},
   "outputs": [],
   "source": [
    "text_data = 'health_notes.txt'\n",
    "doc = Document(response)\n",
    "with open(text_data, 'w', encoding='utf-8') as f:\n",
    "    for page in doc.pages:\n",
    "        page_string = ''\n",
    "        for line in page.lines:\n",
    "            page_string += \" \"\n",
    "            page_string += str(line.text)\n",
    "        f.writelines(page_string + \"\\n\")"
   ]
  },
  {
   "cell_type": "code",
   "execution_count": null,
   "id": "2dcdfd77",
   "metadata": {},
   "outputs": [],
   "source": [
    "with open(text_data, \"r\") as fi:\n",
    "    raw_texts = [line.strip() for line in fi.readlines()]"
   ]
  },
  {
   "cell_type": "code",
   "execution_count": null,
   "id": "10ebbdea",
   "metadata": {},
   "outputs": [],
   "source": [
    "s3 = boto3.resource('s3')\n",
    "s3.Bucket(bucket).upload_file(\"health_notes.txt\", \"phi-masking/health_notes.txt\")"
   ]
  },
  {
   "cell_type": "code",
   "execution_count": null,
   "id": "c15395e7",
   "metadata": {},
   "outputs": [],
   "source": [
    "comprehendMedical = boto3.client(service_name='comprehendmedical')\n",
    "entities = comprehendMedical.detect_entities_v2(Text=page_string)"
   ]
  },
  {
   "cell_type": "code",
   "execution_count": null,
   "id": "718895b1",
   "metadata": {},
   "outputs": [],
   "source": [
    "print(entities)"
   ]
  },
  {
   "cell_type": "code",
   "execution_count": null,
   "id": "0a0c23e0",
   "metadata": {},
   "outputs": [],
   "source": [
    "page_string"
   ]
  },
  {
   "cell_type": "code",
   "execution_count": null,
   "id": "74106d68",
   "metadata": {},
   "outputs": [],
   "source": [
    "substrings = []\n",
    "start = 0\n",
    "for entity in piilist[\"Entities\"]:\n",
    "    substrings.append(page_string[start:entity[\"BeginOffset\"]])\n",
    "    substrings.append(entity[\"Type\"])\n",
    "    start = entity[\"EndOffset\"]\n",
    "\n",
    "masked_text = \" \".join(substrings)"
   ]
  },
  {
   "cell_type": "code",
   "execution_count": null,
   "id": "27dc1ae1",
   "metadata": {},
   "outputs": [],
   "source": [
    "print(masked_text)"
   ]
  }
 ],
 "metadata": {
  "kernelspec": {
   "display_name": "Python 3 (ipykernel)",
   "language": "python",
   "name": "python3"
  },
  "language_info": {
   "codemirror_mode": {
    "name": "ipython",
    "version": 3
   },
   "file_extension": ".py",
   "mimetype": "text/x-python",
   "name": "python",
   "nbconvert_exporter": "python",
   "pygments_lexer": "ipython3",
   "version": "3.9.7"
  }
 },
 "nbformat": 4,
 "nbformat_minor": 5
}
